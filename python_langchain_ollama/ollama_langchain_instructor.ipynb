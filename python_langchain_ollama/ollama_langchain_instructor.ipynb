{
 "cells": [
  {
   "cell_type": "markdown",
   "metadata": {},
   "source": [
    "\n",
    "# Structured output with Ollama\n",
    "\n",
    "- https://python.useinstructor.com/hub/ollama/\n",
    "- https://python.useinstructor.com/examples/ollama/"
   ]
  },
  {
   "cell_type": "markdown",
   "metadata": {},
   "source": [
    "Instructor offers several key benefits:\n",
    "\n",
    " - **Simple API with Full Prompt Control**: Instructor provides a straightforward API that gives you complete ownership and control over your prompts. This allows for fine-tuned customization and optimization of your LLM interactions.\n",
    " - **Reasking and Validation**: Automatically reask the model when validation fails, ensuring high-quality outputs. Leverage Pydantic's validation for robust error handling.\n",
    " - **Streaming Support**: Stream partial results and iterables with ease, allowing for real-time processing and improved responsiveness in your applications.\n",
    " - **Powered by Type Hints**: Leverage Pydantic for schema validation, prompting control, less code, and IDE integration.\n",
    " - **Simplified LLM Interactions**: Support for various LLM providers including OpenAI, Anthropic, Google, Vertex AI, Mistral/Mixtral, Anyscale, **Ollama**, llama-cpp-python, Cohere, and LiteLLM.  See Hub"
   ]
  },
  {
   "cell_type": "code",
   "execution_count": 43,
   "metadata": {},
   "outputs": [
    {
     "name": "stdout",
     "output_type": "stream",
     "text": [
      "{\n",
      "  \"name\": \"\",\n",
      "  \"age\": 123,\n",
      "  \"zodiac_sign\": \"Gemini\",\n",
      "  \"favorite_food\": [\n",
      "    \"\"\n",
      "  ],\n",
      "  \"birthday\": 4204,\n",
      "  \"fact\": [\n",
      "    \"This is a fact.\"\n",
      "  ]\n",
      "}\n"
     ]
    }
   ],
   "source": [
    "from openai import OpenAI\n",
    "from pydantic import BaseModel, Field\n",
    "from pydantic.json_schema import SkipJsonSchema\n",
    "from typing import List, Optional, Union\n",
    "\n",
    "import instructor\n",
    "\n",
    "\n",
    "class Character(BaseModel):\n",
    "    name: str\n",
    "    age: int\n",
    "    zodiac_sign: str = Field(..., description=\"Zodiac sign based on Character's birthdate.\")\n",
    "    favorite_food: List[str] = Field(..., description=\"A list of Character's favorite dishes.\")\n",
    "    birthday: int =  Field(..., description=\"Character's year of birth as integer.\")\n",
    "    # email: Optional[str] = Field(description=\"The email of the user.\", default=None)\n",
    "    fact: List[str] = Field(..., description=\"A list of minimum 5 different facts about the character.\")\n",
    "    # private_field: SkipJsonSchema[Union[str, None]] = None\n",
    "\n",
    "\n",
    "# enables `response_model` in create call\n",
    "client = instructor.from_openai(\n",
    "    OpenAI(\n",
    "        base_url=\"http://localhost:11434/v1\",\n",
    "        api_key=\"ollama\",  # required, but unused\n",
    "    ),\n",
    "    mode=instructor.Mode.JSON,\n",
    ")\n",
    "\n",
    "model = client.chat.completions.create(\n",
    "    model=\"llama3.2\",\n",
    "    response_model=Character,\n",
    "    max_retries=5,\n",
    "    messages=[\n",
    "        {\"role\": \"user\", \"content\": \"Tell me about Socrates\"},\n",
    "    ],\n",
    ")\n",
    "\n",
    "print(model.model_dump_json(indent=2))"
   ]
  },
  {
   "cell_type": "code",
   "execution_count": null,
   "metadata": {},
   "outputs": [],
   "source": []
  }
 ],
 "metadata": {
  "kernelspec": {
   "display_name": "python-3.12",
   "language": "python",
   "name": "python3"
  },
  "language_info": {
   "codemirror_mode": {
    "name": "ipython",
    "version": 3
   },
   "file_extension": ".py",
   "mimetype": "text/x-python",
   "name": "python",
   "nbconvert_exporter": "python",
   "pygments_lexer": "ipython3",
   "version": "3.12.7"
  }
 },
 "nbformat": 4,
 "nbformat_minor": 2
}
