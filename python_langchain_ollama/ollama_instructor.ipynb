{
 "cells": [
  {
   "cell_type": "markdown",
   "metadata": {},
   "source": [
    "# ollama-instructor\n",
    "- https://github.com/lennartpollvogt/ollama-instructor"
   ]
  },
  {
   "cell_type": "code",
   "execution_count": 8,
   "metadata": {},
   "outputs": [
    {
     "name": "stderr",
     "output_type": "stream",
     "text": [
      "2024-10-31 18:32:36,748 - httpx - DEBUG - _config.py:82 - load_ssl_context verify=True cert=None trust_env=True http2=False\n",
      "2024-10-31 18:32:36,751 - httpx - DEBUG - _config.py:148 - load_verify_locations cafile='/home/asuworks/work/repos/github.com/asuworks/hypexplorer/python_langchain_ollama/.direnv/python-3.12/lib/python3.12/site-packages/certifi/cacert.pem'\n",
      "2024-10-31 18:32:36,825 - httpcore.connection - DEBUG - _trace.py:85 - connect_tcp.started host='localhost' port=11434 local_address=None timeout=None socket_options=None\n",
      "2024-10-31 18:32:36,826 - httpcore.connection - DEBUG - _trace.py:85 - connect_tcp.started host='localhost' port=11434 local_address=None timeout=None socket_options=None\n",
      "2024-10-31 18:32:36,827 - httpcore.connection - DEBUG - _trace.py:85 - connect_tcp.started host='localhost' port=11434 local_address=None timeout=None socket_options=None\n",
      "2024-10-31 18:32:36,831 - httpcore.connection - DEBUG - _trace.py:85 - connect_tcp.complete return_value=<httpcore._backends.anyio.AnyIOStream object at 0x7f1872720290>\n",
      "2024-10-31 18:32:36,832 - httpcore.http11 - DEBUG - _trace.py:85 - send_request_headers.started request=<Request [b'POST']>\n",
      "2024-10-31 18:32:36,833 - httpcore.http11 - DEBUG - _trace.py:85 - send_request_headers.complete\n",
      "2024-10-31 18:32:36,834 - httpcore.http11 - DEBUG - _trace.py:85 - send_request_body.started request=<Request [b'POST']>\n",
      "2024-10-31 18:32:36,835 - httpcore.http11 - DEBUG - _trace.py:85 - send_request_body.complete\n",
      "2024-10-31 18:32:36,836 - httpcore.http11 - DEBUG - _trace.py:85 - receive_response_headers.started request=<Request [b'POST']>\n",
      "2024-10-31 18:32:36,836 - httpcore.connection - DEBUG - _trace.py:85 - connect_tcp.complete return_value=<httpcore._backends.anyio.AnyIOStream object at 0x7f1872722120>\n",
      "2024-10-31 18:32:36,837 - httpcore.connection - DEBUG - _trace.py:85 - connect_tcp.complete return_value=<httpcore._backends.anyio.AnyIOStream object at 0x7f1872722a20>\n",
      "2024-10-31 18:32:36,838 - httpcore.http11 - DEBUG - _trace.py:85 - send_request_headers.started request=<Request [b'POST']>\n",
      "2024-10-31 18:32:36,839 - httpcore.http11 - DEBUG - _trace.py:85 - send_request_headers.started request=<Request [b'POST']>\n",
      "2024-10-31 18:32:36,842 - httpcore.http11 - DEBUG - _trace.py:85 - send_request_headers.complete\n",
      "2024-10-31 18:32:36,844 - httpcore.http11 - DEBUG - _trace.py:85 - send_request_body.started request=<Request [b'POST']>\n",
      "2024-10-31 18:32:36,845 - httpcore.http11 - DEBUG - _trace.py:85 - send_request_headers.complete\n",
      "2024-10-31 18:32:36,846 - httpcore.http11 - DEBUG - _trace.py:85 - send_request_body.started request=<Request [b'POST']>\n",
      "2024-10-31 18:32:36,847 - httpcore.http11 - DEBUG - _trace.py:85 - send_request_body.complete\n",
      "2024-10-31 18:32:36,847 - httpcore.http11 - DEBUG - _trace.py:85 - receive_response_headers.started request=<Request [b'POST']>\n",
      "2024-10-31 18:32:36,851 - httpcore.http11 - DEBUG - _trace.py:85 - send_request_body.complete\n",
      "2024-10-31 18:32:36,853 - httpcore.http11 - DEBUG - _trace.py:85 - receive_response_headers.started request=<Request [b'POST']>\n",
      "2024-10-31 18:32:38,015 - httpcore.http11 - DEBUG - _trace.py:85 - receive_response_headers.complete return_value=(b'HTTP/1.1', 200, b'OK', [(b'Content-Type', b'application/json; charset=utf-8'), (b'Date', b'Fri, 01 Nov 2024 01:32:38 GMT'), (b'Content-Length', b'388')])\n",
      "2024-10-31 18:32:38,017 - httpx - INFO - _client.py:1786 - HTTP Request: POST http://localhost:11434/api/chat \"HTTP/1.1 200 OK\"\n",
      "2024-10-31 18:32:38,017 - httpcore.http11 - DEBUG - _trace.py:85 - receive_response_body.started request=<Request [b'POST']>\n",
      "2024-10-31 18:32:38,019 - httpcore.http11 - DEBUG - _trace.py:85 - receive_response_body.complete\n",
      "2024-10-31 18:32:38,019 - httpcore.http11 - DEBUG - _trace.py:85 - response_closed.started\n",
      "2024-10-31 18:32:38,021 - httpcore.http11 - DEBUG - _trace.py:85 - response_closed.complete\n",
      "2024-10-31 18:32:38,185 - httpcore.http11 - DEBUG - _trace.py:85 - receive_response_headers.complete return_value=(b'HTTP/1.1', 200, b'OK', [(b'Content-Type', b'application/json; charset=utf-8'), (b'Date', b'Fri, 01 Nov 2024 01:32:38 GMT'), (b'Content-Length', b'419')])\n",
      "2024-10-31 18:32:38,186 - httpx - INFO - _client.py:1786 - HTTP Request: POST http://localhost:11434/api/chat \"HTTP/1.1 200 OK\"\n",
      "2024-10-31 18:32:38,187 - httpcore.http11 - DEBUG - _trace.py:85 - receive_response_body.started request=<Request [b'POST']>\n",
      "2024-10-31 18:32:38,188 - httpcore.http11 - DEBUG - _trace.py:85 - receive_response_body.complete\n",
      "2024-10-31 18:32:38,190 - httpcore.http11 - DEBUG - _trace.py:85 - response_closed.started\n",
      "2024-10-31 18:32:38,191 - httpcore.http11 - DEBUG - _trace.py:85 - response_closed.complete\n",
      "2024-10-31 18:32:38,237 - httpcore.http11 - DEBUG - _trace.py:85 - receive_response_headers.complete return_value=(b'HTTP/1.1', 200, b'OK', [(b'Content-Type', b'application/json; charset=utf-8'), (b'Date', b'Fri, 01 Nov 2024 01:32:38 GMT'), (b'Content-Length', b'447')])\n",
      "2024-10-31 18:32:38,240 - httpx - INFO - _client.py:1786 - HTTP Request: POST http://localhost:11434/api/chat \"HTTP/1.1 200 OK\"\n",
      "2024-10-31 18:32:38,241 - httpcore.http11 - DEBUG - _trace.py:85 - receive_response_body.started request=<Request [b'POST']>\n",
      "2024-10-31 18:32:38,243 - httpcore.http11 - DEBUG - _trace.py:85 - receive_response_body.complete\n",
      "2024-10-31 18:32:38,244 - httpcore.http11 - DEBUG - _trace.py:85 - response_closed.started\n",
      "2024-10-31 18:32:38,245 - httpcore.http11 - DEBUG - _trace.py:85 - response_closed.complete\n"
     ]
    },
    {
     "data": {
      "text/html": [
       "<pre style=\"white-space:pre;overflow-x:auto;line-height:normal;font-family:Menlo,'DejaVu Sans Mono',consolas,'Courier New',monospace\"><span style=\"font-weight: bold\">{</span><span style=\"color: #008000; text-decoration-color: #008000\">'name'</span>: <span style=\"color: #008000; text-decoration-color: #008000\">'Jason'</span>, <span style=\"color: #008000; text-decoration-color: #008000\">'age'</span>: <span style=\"color: #008080; text-decoration-color: #008080; font-weight: bold\">25</span>, <span style=\"color: #008000; text-decoration-color: #008000\">'gender'</span>: <span style=\"color: #008000; text-decoration-color: #008000\">'male'</span>, <span style=\"color: #008000; text-decoration-color: #008000\">'friends'</span>: <span style=\"font-weight: bold\">[</span><span style=\"color: #008000; text-decoration-color: #008000\">'Nick'</span>, <span style=\"color: #008000; text-decoration-color: #008000\">'Gabriel'</span><span style=\"font-weight: bold\">]}</span>\n",
       "</pre>\n"
      ],
      "text/plain": [
       "\u001b[1m{\u001b[0m\u001b[32m'name'\u001b[0m: \u001b[32m'Jason'\u001b[0m, \u001b[32m'age'\u001b[0m: \u001b[1;36m25\u001b[0m, \u001b[32m'gender'\u001b[0m: \u001b[32m'male'\u001b[0m, \u001b[32m'friends'\u001b[0m: \u001b[1m[\u001b[0m\u001b[32m'Nick'\u001b[0m, \u001b[32m'Gabriel'\u001b[0m\u001b[1m]\u001b[0m\u001b[1m}\u001b[0m\n"
      ]
     },
     "metadata": {},
     "output_type": "display_data"
    },
    {
     "data": {
      "text/html": [
       "<pre style=\"white-space:pre;overflow-x:auto;line-height:normal;font-family:Menlo,'DejaVu Sans Mono',consolas,'Courier New',monospace\"><span style=\"font-weight: bold\">{</span><span style=\"color: #008000; text-decoration-color: #008000\">'name'</span>: <span style=\"color: #008000; text-decoration-color: #008000\">'Alice'</span>, <span style=\"color: #008000; text-decoration-color: #008000\">'age'</span>: <span style=\"color: #008080; text-decoration-color: #008080; font-weight: bold\">30</span>, <span style=\"color: #008000; text-decoration-color: #008000\">'gender'</span>: <span style=\"color: #008000; text-decoration-color: #008000\">'female'</span>, <span style=\"color: #008000; text-decoration-color: #008000\">'friends'</span>: <span style=\"font-weight: bold\">[</span><span style=\"color: #008000; text-decoration-color: #008000\">'reading books'</span>, <span style=\"color: #008000; text-decoration-color: #008000\">'hiking'</span><span style=\"font-weight: bold\">]}</span>\n",
       "</pre>\n"
      ],
      "text/plain": [
       "\u001b[1m{\u001b[0m\u001b[32m'name'\u001b[0m: \u001b[32m'Alice'\u001b[0m, \u001b[32m'age'\u001b[0m: \u001b[1;36m30\u001b[0m, \u001b[32m'gender'\u001b[0m: \u001b[32m'female'\u001b[0m, \u001b[32m'friends'\u001b[0m: \u001b[1m[\u001b[0m\u001b[32m'reading books'\u001b[0m, \u001b[32m'hiking'\u001b[0m\u001b[1m]\u001b[0m\u001b[1m}\u001b[0m\n"
      ]
     },
     "metadata": {},
     "output_type": "display_data"
    },
    {
     "data": {
      "text/html": [
       "<pre style=\"white-space:pre;overflow-x:auto;line-height:normal;font-family:Menlo,'DejaVu Sans Mono',consolas,'Courier New',monospace\"><span style=\"font-weight: bold\">{</span><span style=\"color: #008000; text-decoration-color: #008000\">'name'</span>: <span style=\"color: #008000; text-decoration-color: #008000\">'Bob'</span>, <span style=\"color: #008000; text-decoration-color: #008000\">'age'</span>: <span style=\"color: #008080; text-decoration-color: #008080; font-weight: bold\">28</span>, <span style=\"color: #008000; text-decoration-color: #008000\">'gender'</span>: <span style=\"color: #008000; text-decoration-color: #008000\">'male'</span>, <span style=\"color: #008000; text-decoration-color: #008000\">'friends'</span>: <span style=\"font-weight: bold\">[]}</span>\n",
       "</pre>\n"
      ],
      "text/plain": [
       "\u001b[1m{\u001b[0m\u001b[32m'name'\u001b[0m: \u001b[32m'Bob'\u001b[0m, \u001b[32m'age'\u001b[0m: \u001b[1;36m28\u001b[0m, \u001b[32m'gender'\u001b[0m: \u001b[32m'male'\u001b[0m, \u001b[32m'friends'\u001b[0m: \u001b[1m[\u001b[0m\u001b[1m]\u001b[0m\u001b[1m}\u001b[0m\n"
      ]
     },
     "metadata": {},
     "output_type": "display_data"
    }
   ],
   "source": [
    "from typing_extensions import Any\n",
    "from pydantic import BaseModel, ConfigDict\n",
    "from enum import Enum\n",
    "from typing import List, Dict, Any\n",
    "import rich\n",
    "import asyncio\n",
    "\n",
    "from ollama_instructor.ollama_instructor_client import OllamaInstructorAsyncClient\n",
    "\n",
    "class Gender(Enum):\n",
    "    MALE = 'male'\n",
    "    FEMALE = 'female'\n",
    "\n",
    "class Person(BaseModel):\n",
    "    '''\n",
    "    This model defines a person.\n",
    "    '''\n",
    "    name: str\n",
    "    age: int\n",
    "    gender: Gender\n",
    "    friends: List[str] = []\n",
    "\n",
    "    model_config = ConfigDict(\n",
    "        extra='forbid'\n",
    "    )\n",
    "\n",
    "async def process_request(client, messages):\n",
    "    response = await client.chat_completion(\n",
    "        model='llama3.2',\n",
    "        pydantic_model=Person,\n",
    "        messages=messages,\n",
    "    )\n",
    "    return response['message']['content']\n",
    "\n",
    "async def main():\n",
    "    client = OllamaInstructorAsyncClient(host=\"localhost:11434\")\n",
    "    await client.async_init()  # Important: must call this before using the client\n",
    "\n",
    "    requests = [\n",
    "        process_request(client, [\n",
    "            {\n",
    "                'role': 'user',\n",
    "                'content': 'Jason is 25 years old. Jason loves to play soccer with his friends Nick and Gabriel. His favorite food is pizza.'\n",
    "            }\n",
    "        ]),\n",
    "        process_request(client, [\n",
    "            {\n",
    "                'role': 'user',\n",
    "                'content': 'Alice is 30 years old. Alice enjoys reading books and hiking in her free time. Her favorite season is fall.'\n",
    "            }\n",
    "        ]),\n",
    "        process_request(client, [\n",
    "            {\n",
    "                'role': 'user',\n",
    "                'content': 'Bob is 28 years old. Bob works as a software developer and loves coding and gaming on weekends.'\n",
    "            }\n",
    "        ])\n",
    "    ]\n",
    "\n",
    "    responses = await asyncio.gather(*requests)\n",
    "    for response in responses:\n",
    "        rich.print(response)\n",
    "\n",
    "response = await main()"
   ]
  }
 ],
 "metadata": {
  "kernelspec": {
   "display_name": "python-3.12",
   "language": "python",
   "name": "python3"
  },
  "language_info": {
   "codemirror_mode": {
    "name": "ipython",
    "version": 3
   },
   "file_extension": ".py",
   "mimetype": "text/x-python",
   "name": "python",
   "nbconvert_exporter": "python",
   "pygments_lexer": "ipython3",
   "version": "3.12.7"
  }
 },
 "nbformat": 4,
 "nbformat_minor": 2
}
