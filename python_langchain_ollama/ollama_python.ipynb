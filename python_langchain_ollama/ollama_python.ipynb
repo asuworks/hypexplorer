{
 "cells": [
  {
   "cell_type": "markdown",
   "metadata": {},
   "source": [
    "# Call `ollama` on `localhost:11434` with `requests`\n",
    "\n",
    "- Ollama REST API *(compatible with OpenAI API)*: https://github.com/ollama/ollama/blob/main/docs/api.md\n",
    "- Several collections of API Requests to Ollama on localhost are inside `./bruno_client_ollama_api`\n",
    "- Bruno API Client: https://www.usebruno.com/"
   ]
  },
  {
   "cell_type": "code",
   "execution_count": null,
   "metadata": {},
   "outputs": [
    {
     "name": "stdout",
     "output_type": "stream",
     "text": [
      "[{'role': 'user', 'content': 'Tell me a short joke about a parrot'}]\n",
      "{'model': 'llama3.1', 'created_at': '2024-11-01T00:20:57.473907161Z', 'message': {'role': 'assistant', 'content': 'Here is a short joke:\\n\\nWhy did the parrot go to the doctor?\\n\\nBecause it had a fowl cough! (get it?)'}, 'done_reason': 'stop', 'done': True, 'total_duration': 1253662154, 'load_duration': 43363713, 'prompt_eval_count': 19, 'prompt_eval_duration': 229312000, 'eval_count': 29, 'eval_duration': 925275000}\n"
     ]
    }
   ],
   "source": [
    "\n",
    "from typing import List\n",
    "import requests\n",
    "\n",
    "def call_chat_model(messages: List[dict]) -> str:\n",
    "\n",
    "    url = f\"http://localhost:11434/api/chat\"\n",
    "    \n",
    "    payload = {\n",
    "        \"model\": \"llama3.1\",  # You can change this to any model available in your Ollama setup\n",
    "        \"messages\": messages,\n",
    "        \"stream\": False,\n",
    "    }\n",
    "    \n",
    "    response = requests.post(url, json=payload)\n",
    "    response.raise_for_status()\n",
    "    \n",
    "    return response.json()\n",
    "\n",
    "def invoke_chain(topic: str) -> str:\n",
    "    prompt_template = \"Tell me a short joke about {topic}\"\n",
    "    prompt_value = prompt_template.format(topic=topic)\n",
    "    messages = [{\"role\": \"user\", \"content\": prompt_value}]\n",
    "    \n",
    "    print(messages)\n",
    "    return call_chat_model(messages)\n",
    "\n",
    "# Example usage\n",
    "result = invoke_chain(\"a parrot\")\n",
    "print(result)\n"
   ]
  },
  {
   "cell_type": "markdown",
   "metadata": {},
   "source": [
    "# Call `ollama` on `localhost:11434` with `ollama-python`\n",
    "- `ollama-python` (python wrapper): https://github.com/ollama/ollama-python\n",
    "- Ollama REST API *(compatible with OpenAI API)*: https://github.com/ollama/ollama/blob/main/docs/api.md"
   ]
  },
  {
   "cell_type": "code",
   "execution_count": null,
   "metadata": {},
   "outputs": [
    {
     "name": "stdout",
     "output_type": "stream",
     "text": [
      "The sky appears blue to us because of a phenomenon called Rayleigh scattering, which occurs when sunlight interacts with tiny molecules of gases in the atmosphere.\n",
      "\n",
      "Here's a simplified explanation:\n",
      "\n",
      "1. **Sunlight**: The sun emits white light, which is made up of all the colors of the visible spectrum (red, orange, yellow, green, blue, indigo, and violet).\n",
      "2. **Atmospheric gases**: When sunlight enters Earth's atmosphere, it encounters tiny molecules of gases such as nitrogen (N2) and oxygen (O2). These molecules are much smaller than the wavelength of light.\n",
      "3. **Scattering**: As sunlight passes through the atmosphere, it collides with these gas molecules. This collision causes the light to scatter in all directions.\n",
      "4. **Wavelength dependence**: The shorter (blue) wavelengths are scattered more efficiently than the longer (red) wavelengths. This is because the smaller gas molecules are better at interacting with and scattering the shorter wavelengths of light.\n",
      "\n",
      "As a result, when we look up at the sky on a clear day, we see blue light being scattered in all directions, giving our atmosphere that brilliant blue color. The other colors of the spectrum, particularly red and orange, continue to travel longer distances through the atmosphere without being scattered as much, which is why we often see these colors during sunrise and sunset.\n",
      "\n",
      "**Did you know?**\n",
      "\n",
      "* The exact shade of blue can vary depending on atmospheric conditions, like pollution levels or water content in the air.\n",
      "* The sky appears more red during sunrise and sunset due to the scattering of shorter wavelengths by atmospheric particles like dust and water vapor.\n",
      "* Astronauts in space have reported that the Earth's sky appears black because there is no atmosphere to scatter sunlight.\n",
      "\n",
      "Hope this explanation helped you understand why the sky is blue!"
     ]
    }
   ],
   "source": [
    "import ollama\n",
    "\n",
    "client = ollama.Client(host=\"http://localhost:11434\")\n",
    "\n",
    "stream = client.chat(\n",
    "    model='llama3.1',\n",
    "    messages=[{'role': 'user', 'content': 'Why is the sky blue?'}],\n",
    "    stream=True,\n",
    ")\n",
    "\n",
    "for chunk in stream:\n",
    "  print(chunk['message']['content'], end='', flush=True)"
   ]
  },
  {
   "cell_type": "code",
   "execution_count": null,
   "metadata": {},
   "outputs": [
    {
     "name": "stdout",
     "output_type": "stream",
     "text": [
      "{'model': 'llama3.1', 'created_at': '2024-11-01T00:38:30.47133046Z', 'message': {'role': 'assistant', 'content': \"The sky appears blue to us because of a phenomenon called scattering. Here's what happens:\\n\\n1. **Sunlight enters Earth's atmosphere**: When sunlight enters our atmosphere, it encounters tiny molecules of gases such as nitrogen (N2) and oxygen (O2). These molecules are much smaller than the wavelength of light.\\n2. **Scattering occurs**: As sunlight interacts with these gas molecules, it gets scattered in all directions. This scattering is more effective for shorter wavelengths of light, which we perceive as blue.\\n3. **Blue light dominates**: Since the blue part of the visible spectrum has a shorter wavelength (around 450-495 nanometers), it is scattered more than other colors, such as red and yellow. This means that blue light reaches our eyes from all directions in the sky.\\n4. **Our eyes perceive the color**: As a result of this scattering, the sky appears blue to us because we see the scattered blue light from all directions.\\n\\nIt's worth noting that:\\n\\n* **The color of the sky can change**: During sunrise and sunset, the sky can take on hues of red, orange, or pink. This is due to the way light interacts with atmospheric particles at low angles.\\n* **Air pollution and dust can affect the sky's color**: Tiny particles in the air can scatter light in different ways, making the sky appear more hazy or even grayish-brown.\\n\\nSo, there you have it! The next time someone asks you why the sky is blue, you'll be able to explain the science behind this beautiful phenomenon.\"}, 'done_reason': 'stop', 'done': True, 'total_duration': 9246259909, 'load_duration': 22866580, 'prompt_eval_count': 16, 'prompt_eval_duration': 316957000, 'eval_count': 315, 'eval_duration': 8844329000}\n",
      "{'role': 'assistant', 'content': \"The sky appears blue to us because of a phenomenon called scattering. Here's what happens:\\n\\n1. **Sunlight enters Earth's atmosphere**: When sunlight enters our atmosphere, it encounters tiny molecules of gases such as nitrogen (N2) and oxygen (O2). These molecules are much smaller than the wavelength of light.\\n2. **Scattering occurs**: As sunlight interacts with these gas molecules, it gets scattered in all directions. This scattering is more effective for shorter wavelengths of light, which we perceive as blue.\\n3. **Blue light dominates**: Since the blue part of the visible spectrum has a shorter wavelength (around 450-495 nanometers), it is scattered more than other colors, such as red and yellow. This means that blue light reaches our eyes from all directions in the sky.\\n4. **Our eyes perceive the color**: As a result of this scattering, the sky appears blue to us because we see the scattered blue light from all directions.\\n\\nIt's worth noting that:\\n\\n* **The color of the sky can change**: During sunrise and sunset, the sky can take on hues of red, orange, or pink. This is due to the way light interacts with atmospheric particles at low angles.\\n* **Air pollution and dust can affect the sky's color**: Tiny particles in the air can scatter light in different ways, making the sky appear more hazy or even grayish-brown.\\n\\nSo, there you have it! The next time someone asks you why the sky is blue, you'll be able to explain the science behind this beautiful phenomenon.\"}\n"
     ]
    }
   ],
   "source": [
    "import asyncio\n",
    "from ollama import AsyncClient\n",
    "\n",
    "client = AsyncClient(host=\"http://localhost:11434\")\n",
    "\n",
    "async def chat():\n",
    "    message = {'role': 'user', 'content': 'Why is the sky blue?'}\n",
    "    response = await client.chat(model='llama3.1', messages=[message])    \n",
    "    return response\n",
    "\n",
    "response = await chat()\n",
    "print(response['message'])"
   ]
  },
  {
   "cell_type": "code",
   "execution_count": 25,
   "metadata": {},
   "outputs": [
    {
     "name": "stdout",
     "output_type": "stream",
     "text": [
      "bakllava:latest\n",
      "llava:latest\n",
      "llama3.2:latest\n",
      "llama3.1:latest\n",
      "mxbai-embed-large:latest\n",
      "deepseek-coder-v2:latest\n",
      "nomic-embed-text:latest\n"
     ]
    }
   ],
   "source": [
    "response = client.list()\n",
    "\n",
    "#  List all local model\n",
    "for model in response['models']:\n",
    "    print(model['name'])"
   ]
  }
 ],
 "metadata": {
  "kernelspec": {
   "display_name": "python-3.12",
   "language": "python",
   "name": "python3"
  },
  "language_info": {
   "codemirror_mode": {
    "name": "ipython",
    "version": 3
   },
   "file_extension": ".py",
   "mimetype": "text/x-python",
   "name": "python",
   "nbconvert_exporter": "python",
   "pygments_lexer": "ipython3",
   "version": "3.12.7"
  }
 },
 "nbformat": 4,
 "nbformat_minor": 2
}
